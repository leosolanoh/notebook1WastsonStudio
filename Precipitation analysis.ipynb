{
    "cells": [
        {
            "metadata": {},
            "cell_type": "code",
            "source": "\n// @hidden_cell\nimport com.ibm.ibmos2spark.CloudObjectStorage\nvar configurationName = \"os_b4932790b3994d049ac78e88dfb6f93b_configs\"\ndef getCredentials(): scala.collection.mutable.HashMap[String, String] = {\n    return scala.collection.mutable.HashMap[String, String] (\n    \"endPoint\"->\"https://s3-api.us-geo.objectstorage.service.networklayer.com\",\n    \"apiKey\"->\"upQ-E2U5Pnd1sMp-0c2Kn7tKCsOLNG1QAT2nB9c5Fnvp\",\n    \"serviceId\"->\"iam-ServiceId-ca136cdb-e8ad-4608-9524-09cd51d26155\",\n    \"iamServiceEndpoint\" -> \"https://iam.cloud.ibm.com/oidc/token\")\n}\n\nvar cos = new CloudObjectStorage(sc, getCredentials(), configurationName, \"bluemix_cos\")\n\nimport org.apache.spark.sql.SparkSession\nval spark = SparkSession.\n    builder().\n    getOrCreate()\nval dfData1 = spark.\n    read.format(\"org.apache.spark.sql.execution.datasources.csv.CSVFileFormat\").\n    option(\"header\", \"true\").\n    option(\"inferSchema\", \"true\").\n    load(cos.url(\"firstcoursera-donotdelete-pr-nm8sjv9f4vlwlk\", \"precipitation.csv\"))\ndfData1.show(5)\n",
            "execution_count": 2,
            "outputs": [
                {
                    "output_type": "stream",
                    "text": "+-------------------+-------------+-------------+-------------+-------------+-------+-------------+-------------+-------------+-------------+-------------+-------------+-------------+-------------+-------------+-------------+-------------+\n|    Country or Area|         1990|         1995|         1996|         1997|   1998|         1999|         2000|         2001|         2002|         2003|         2004|         2005|         2006|         2007|         2008|         2009|\n+-------------------+-------------+-------------+-------------+-------------+-------+-------------+-------------+-------------+-------------+-------------+-------------+-------------+-------------+-------------+-------------+-------------+\n|            Albania|      28385.0|      40311.0|          0.0|          0.0|    0.0|      38284.0|      30683.0|      30491.0|      35883.0|      27893.0|      42787.0|      42840.0|      32380.0|      30964.0|          0.0|          0.0|\n|            Algeria|      76160.0|      90270.0|      53380.0|      74460.0|66470.0|      50150.0|      64430.0|      43840.0|      37317.0|          0.0|          0.0|          0.0|          0.0|          0.0|     100000.0|          0.0|\n|            Andorra|539.947998047| 510.67300415|560.340026855|434.475006104|  254.0|450.151000977|518.666015625| 456.62600708|565.559020996|566.583007812|567.044006348|530.278015137|353.220001221|306.630004883|          0.0|          0.0|\n|           Anguilla|93.0999984741|100.730003357|          0.0|          0.0|    0.0|          0.0|68.1900024414|70.7300033569|68.1900024414|108.769996643|        84.25|124.400001526|99.5500030518|86.2900009155|96.8899993896|71.0800018311|\n|Antigua and Barbuda|300.299987793|        374.5|323.299987793|279.200012207|  384.5|426.799987793|249.600006104|        238.0|268.600006104|253.899993896|426.899993896|        371.0|332.799987793|293.600006104|        392.5|276.899993896|\n+-------------------+-------------+-------------+-------------+-------------+-------+-------------+-------------+-------------+-------------+-------------+-------------+-------------+-------------+-------------+-------------+-------------+\nonly showing top 5 rows\n\n",
                    "name": "stdout"
                },
                {
                    "output_type": "display_data",
                    "data": {
                        "text/plain": "configurationName = os_b4932790b3994d049ac78e88dfb6f93b_configs\ncos = com.ibm.ibmos2spark.CloudObjectStorage@3f6fa622\nspark = org.apache.spark.sql.SparkSession@8553b2c1\ndfData1 = [Country or Area: string, 1990: double ... 15 more fields]\n"
                    },
                    "metadata": {}
                },
                {
                    "output_type": "display_data",
                    "data": {
                        "text/plain": "getCredentials: ()scala.collection.mutable.HashMap[String,String]\n"
                    },
                    "metadata": {}
                },
                {
                    "output_type": "execute_result",
                    "execution_count": 2,
                    "data": {
                        "text/plain": "[Country or Area: string, 1990: double ... 15 more fields]"
                    },
                    "metadata": {}
                }
            ]
        },
        {
            "metadata": {},
            "cell_type": "code",
            "source": "",
            "execution_count": null,
            "outputs": []
        }
    ],
    "metadata": {
        "kernelspec": {
            "name": "scala",
            "display_name": "Scala 2.11 with Spark",
            "language": "scala"
        },
        "language_info": {
            "mimetype": "text/x-scala",
            "name": "scala",
            "pygments_lexer": "scala",
            "version": "2.11.12",
            "file_extension": ".scala",
            "codemirror_mode": "text/x-scala"
        }
    },
    "nbformat": 4,
    "nbformat_minor": 1
}