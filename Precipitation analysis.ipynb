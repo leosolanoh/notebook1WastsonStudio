{
    "cells": [
        {
            "cell_type": "code",
            "execution_count": 2,
            "metadata": {},
            "outputs": [
                {
                    "name": "stdout",
                    "output_type": "stream",
                    "text": "+-------------------+-------------+-------------+-------------+-------------+-------+-------------+-------------+-------------+-------------+-------------+-------------+-------------+-------------+-------------+-------------+-------------+\n|    Country or Area|         1990|         1995|         1996|         1997|   1998|         1999|         2000|         2001|         2002|         2003|         2004|         2005|         2006|         2007|         2008|         2009|\n+-------------------+-------------+-------------+-------------+-------------+-------+-------------+-------------+-------------+-------------+-------------+-------------+-------------+-------------+-------------+-------------+-------------+\n|            Albania|      28385.0|      40311.0|          0.0|          0.0|    0.0|      38284.0|      30683.0|      30491.0|      35883.0|      27893.0|      42787.0|      42840.0|      32380.0|      30964.0|          0.0|          0.0|\n|            Algeria|      76160.0|      90270.0|      53380.0|      74460.0|66470.0|      50150.0|      64430.0|      43840.0|      37317.0|          0.0|          0.0|          0.0|          0.0|          0.0|     100000.0|          0.0|\n|            Andorra|539.947998047| 510.67300415|560.340026855|434.475006104|  254.0|450.151000977|518.666015625| 456.62600708|565.559020996|566.583007812|567.044006348|530.278015137|353.220001221|306.630004883|          0.0|          0.0|\n|           Anguilla|93.0999984741|100.730003357|          0.0|          0.0|    0.0|          0.0|68.1900024414|70.7300033569|68.1900024414|108.769996643|        84.25|124.400001526|99.5500030518|86.2900009155|96.8899993896|71.0800018311|\n|Antigua and Barbuda|300.299987793|        374.5|323.299987793|279.200012207|  384.5|426.799987793|249.600006104|        238.0|268.600006104|253.899993896|426.899993896|        371.0|332.799987793|293.600006104|        392.5|276.899993896|\n+-------------------+-------------+-------------+-------------+-------------+-------+-------------+-------------+-------------+-------------+-------------+-------------+-------------+-------------+-------------+-------------+-------------+\nonly showing top 5 rows\n\n"
                },
                {
                    "data": {
                        "text/plain": "configurationName = os_b4932790b3994d049ac78e88dfb6f93b_configs\ncos = com.ibm.ibmos2spark.CloudObjectStorage@3f6fa622\nspark = org.apache.spark.sql.SparkSession@8553b2c1\ndfData1 = [Country or Area: string, 1990: double ... 15 more fields]\n"
                    },
                    "metadata": {},
                    "output_type": "display_data"
                },
                {
                    "data": {
                        "text/plain": "getCredentials: ()scala.collection.mutable.HashMap[String,String]\n"
                    },
                    "metadata": {},
                    "output_type": "display_data"
                },
                {
                    "data": {
                        "text/plain": "[Country or Area: string, 1990: double ... 15 more fields]"
                    },
                    "execution_count": 2,
                    "metadata": {},
                    "output_type": "execute_result"
                }
            ],
            "source": "// The code was removed by Watson Studio for sharing."
        },
        {
            "cell_type": "code",
            "execution_count": null,
            "metadata": {},
            "outputs": [],
            "source": ""
        }
    ],
    "metadata": {
        "kernelspec": {
            "display_name": "Scala 2.11 with Spark",
            "language": "scala",
            "name": "scala"
        },
        "language_info": {
            "codemirror_mode": "text/x-scala",
            "file_extension": ".scala",
            "mimetype": "text/x-scala",
            "name": "scala",
            "pygments_lexer": "scala",
            "version": "2.11.12"
        }
    },
    "nbformat": 4,
    "nbformat_minor": 1
}